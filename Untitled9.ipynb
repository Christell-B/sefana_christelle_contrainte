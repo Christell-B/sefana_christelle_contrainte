{
 "cells": [
  {
   "cell_type": "code",
   "execution_count": null,
   "id": "5639e8a7-8451-415d-8929-142d52c45ffa",
   "metadata": {},
   "outputs": [
    {
     "name": "stdin",
     "output_type": "stream",
     "text": [
      "Entrez le port série (ex: COM3 ou /dev/ttyUSB0) :  COM3\n",
      "Entrez le débit en bauds (ex: 9600) :  9600\n"
     ]
    },
    {
     "name": "stdout",
     "output_type": "stream",
     "text": [
      "Connexion série établie.\n",
      "Appuyez sur 'n' pour démarrer une série de mesures ou 'q' pour quitter.\n"
     ]
    },
    {
     "name": "stdin",
     "output_type": "stream",
     "text": [
      "Appuyez sur 'n' pour lancer un essai ou 'q' pour quitter :  n\n"
     ]
    },
    {
     "name": "stdout",
     "output_type": "stream",
     "text": [
      "Commande envoyée. Acquisition de 10 mesures...\n",
      "Données reçues : Press n to start aquisiton\n"
     ]
    }
   ],
   "source": [
    "import serial\n",
    "import time\n",
    "\n",
    "def read_arduino_data(port, baud_rate):\n",
    "    try:\n",
    "        # Connexion au port série\n",
    "        with serial.Serial(port, baud_rate, timeout=1) as ser:\n",
    "            print(\"Connexion série établie.\")\n",
    "            \n",
    "            # Attente pour que l'Arduino soit prêt\n",
    "            time.sleep(2)\n",
    "            \n",
    "            print(\"Appuyez sur 'n' pour démarrer une série de mesures ou 'q' pour quitter.\")\n",
    "            all_data = []  # Liste pour stocker toutes les séries de mesures\n",
    "            \n",
    "            while True:\n",
    "                user_input = input(\"Appuyez sur 'n' pour lancer un essai ou 'q' pour quitter : \").strip()\n",
    "                \n",
    "                if user_input.lower() == 'q':\n",
    "                    # Fin du programme\n",
    "                    print(\"Acquisition terminée.\")\n",
    "                    \n",
    "                    if all_data:\n",
    "                        # Demande du nom de fichier pour enregistrer toutes les données\n",
    "                        file_name = input(\"Entrez le nom du fichier pour enregistrer toutes les données (ex: data.txt) : \").strip()\n",
    "                        with open(file_name, 'w') as file:\n",
    "                            for idx, series in enumerate(all_data, start=1):\n",
    "                                file.write(f\"Série {idx}:\\n\")\n",
    "                                file.write(\"\\n\".join(series) + \"\\n\\n\")\n",
    "                        print(f\"Données enregistrées dans le fichier {file_name}.\")\n",
    "                    else:\n",
    "                        print(\"Aucune donnée à enregistrer.\")\n",
    "                    \n",
    "                    break\n",
    "                \n",
    "                elif user_input.lower() == 'n':\n",
    "                    # Envoi de la commande pour démarrer une série\n",
    "                    ser.write(b'n')\n",
    "                    print(\"Commande envoyée. Acquisition de 10 mesures...\")\n",
    "                    \n",
    "                    # Lecture des 10 mesures\n",
    "                    series_data = []\n",
    "                    while len(series_data) < 10:\n",
    "                        line = ser.readline().decode('utf-8').strip()\n",
    "                        if line:\n",
    "                            print(f\"Données reçues : {line}\")\n",
    "                            series_data.append(line)\n",
    "                    \n",
    "                    # Stocker les mesures dans la liste globale\n",
    "                    all_data.append(series_data)\n",
    "                    print(f\"Série de mesures terminée. Total des séries collectées : {len(all_data)}\")\n",
    "                else:\n",
    "                    print(\"Entrée invalide. Appuyez sur 'n' pour lancer ou 'q' pour quitter.\")\n",
    "    \n",
    "    except Exception as e:\n",
    "        print(f\"Erreur : {e}\")\n",
    "\n",
    "# Demande des paramètres utilisateur\n",
    "if __name__ == \"__main__\":\n",
    "    port = input(\"Entrez le port série (ex: COM3 ou /dev/ttyUSB0) : \")\n",
    "    baud_rate = int(input(\"Entrez le débit en bauds (ex: 9600) : \"))\n",
    "    \n",
    "    read_arduino_data(port, baud_rate)\n"
   ]
  },
  {
   "cell_type": "code",
   "execution_count": null,
   "id": "70981bf1-c743-4053-a0e9-c3df960e644c",
   "metadata": {},
   "outputs": [
    {
     "name": "stdin",
     "output_type": "stream",
     "text": [
      "Entrez le port série (ex: COM3 ou /dev/ttyUSB0) :  COM3\n",
      "Entrez le débit en bauds (ex: 9600) :  9600\n"
     ]
    },
    {
     "name": "stdout",
     "output_type": "stream",
     "text": [
      "Tentative de connexion au port série...\n",
      "Connexion établie sur COM3 à 9600 bauds.\n",
      "Arduino initialisé. Prêt pour les commandes.\n",
      "Appuyez sur 'n' pour démarrer une série de mesures ou 'q' pour quitter.\n"
     ]
    },
    {
     "name": "stdin",
     "output_type": "stream",
     "text": [
      "Appuyez sur 'n' pour lancer un essai ou 'q' pour quitter :  n\n"
     ]
    },
    {
     "name": "stdout",
     "output_type": "stream",
     "text": [
      "Envoi de la commande 'n' pour la série 1...\n",
      "Lecture des données en cours...\n",
      "mesure 0 => Press n to start aquisiton\n"
     ]
    }
   ],
   "source": [
    "import serial\n",
    "import time\n",
    "\n",
    "def read_arduino_data(port, baud_rate):\n",
    "    try:\n",
    "        # Connexion au port série\n",
    "        print(\"Tentative de connexion au port série...\")\n",
    "        with serial.Serial(port, baud_rate, timeout=1) as ser:\n",
    "            print(f\"Connexion établie sur {port} à {baud_rate} bauds.\")\n",
    "            \n",
    "            # Attente pour que l'Arduino soit prêt\n",
    "            time.sleep(2)\n",
    "            print(\"Arduino initialisé. Prêt pour les commandes.\")\n",
    "            \n",
    "            print(\"Appuyez sur 'n' pour démarrer une série de mesures ou 'q' pour quitter.\")\n",
    "            all_data = []  # Liste pour stocker toutes les séries de mesures\n",
    "            \n",
    "            series_counter = 1  # Compteur de séries\n",
    "            while True:\n",
    "                user_input = input(\"Appuyez sur 'n' pour lancer un essai ou 'q' pour quitter : \").strip()\n",
    "                \n",
    "                if user_input.lower() == 'q':\n",
    "                    # Fin du programme\n",
    "                    print(\"Acquisition terminée.\")\n",
    "                    \n",
    "                    if all_data:\n",
    "                        # Demande du nom de fichier pour enregistrer toutes les données\n",
    "                        file_name = input(\"Entrez le nom du fichier pour enregistrer toutes les données (ex: data.txt) : \").strip()\n",
    "                        with open(file_name, 'w') as file:\n",
    "                            for idx, series in enumerate(all_data, start=1):\n",
    "                                file.write(f\"Série {idx}:\\n\")\n",
    "                                file.write(\"\\n\".join(series) + \"\\n\\n\")\n",
    "                        print(f\"Données enregistrées dans le fichier {file_name}.\")\n",
    "                    else:\n",
    "                        print(\"Aucune donnée à enregistrer.\")\n",
    "                    \n",
    "                    break\n",
    "                \n",
    "                elif user_input.lower() == 'n':\n",
    "                    # Envoi de la commande pour démarrer une série\n",
    "                    print(f\"Envoi de la commande 'n' pour la série {series_counter}...\")\n",
    "                    ser.write(b'n')\n",
    "                    \n",
    "                    # Lecture des 10 mesures\n",
    "                    print(\"Lecture des données en cours...\")\n",
    "                    series_data = []\n",
    "                    while len(series_data) < 10:\n",
    "                        line = ser.readline().decode('utf-8').strip()\n",
    "                        if line:\n",
    "                            print(f\"mesure {len(series_data)} => {line}\")\n",
    "                            series_data.append(f\"mesure {len(series_data)} => {line}\")\n",
    "                    \n",
    "                    # Stocker les mesures dans la liste globale\n",
    "                    print(f\"Série {series_counter} terminée.\")\n",
    "                    all_data.append(series_data)\n",
    "                    series_counter += 1\n",
    "                else:\n",
    "                    print(\"Entrée invalide. Appuyez sur 'n' pour lancer ou 'q' pour quitter.\")\n",
    "    \n",
    "    except Exception as e:\n",
    "        print(f\"Erreur : {e}\")\n",
    "\n",
    "# Demande des paramètres utilisateur\n",
    "if __name__ == \"__main__\":\n",
    "    port = input(\"Entrez le port série (ex: COM3 ou /dev/ttyUSB0) : \")\n",
    "    baud_rate = int(input(\"Entrez le débit en bauds (ex: 9600) : \"))\n",
    "    \n",
    "    read_arduino_data(port, baud_rate)\n"
   ]
  },
  {
   "cell_type": "code",
   "execution_count": 1,
   "id": "2f71d727-8de3-4585-961c-45473b54f8b2",
   "metadata": {},
   "outputs": [
    {
     "ename": "NameError",
     "evalue": "name 'serial' is not defined",
     "output_type": "error",
     "traceback": [
      "\u001b[1;31m---------------------------------------------------------------------------\u001b[0m",
      "\u001b[1;31mNameError\u001b[0m                                 Traceback (most recent call last)",
      "Cell \u001b[1;32mIn[1], line 10\u001b[0m\n\u001b[0;32m      9\u001b[0m \u001b[38;5;28;01mtry\u001b[39;00m:\n\u001b[1;32m---> 10\u001b[0m     ser \u001b[38;5;241m=\u001b[39m serial\u001b[38;5;241m.\u001b[39mSerial(arduino_port, baud_rate, timeout\u001b[38;5;241m=\u001b[39m\u001b[38;5;241m2\u001b[39m)\n\u001b[0;32m     11\u001b[0m     \u001b[38;5;28mprint\u001b[39m(\u001b[38;5;124mf\u001b[39m\u001b[38;5;124m\"\u001b[39m\u001b[38;5;124mConnecté à \u001b[39m\u001b[38;5;132;01m{\u001b[39;00marduino_port\u001b[38;5;132;01m}\u001b[39;00m\u001b[38;5;124m\"\u001b[39m)\n",
      "\u001b[1;31mNameError\u001b[0m: name 'serial' is not defined",
      "\nDuring handling of the above exception, another exception occurred:\n",
      "\u001b[1;31mNameError\u001b[0m                                 Traceback (most recent call last)",
      "Cell \u001b[1;32mIn[1], line 12\u001b[0m\n\u001b[0;32m     10\u001b[0m     ser \u001b[38;5;241m=\u001b[39m serial\u001b[38;5;241m.\u001b[39mSerial(arduino_port, baud_rate, timeout\u001b[38;5;241m=\u001b[39m\u001b[38;5;241m2\u001b[39m)\n\u001b[0;32m     11\u001b[0m     \u001b[38;5;28mprint\u001b[39m(\u001b[38;5;124mf\u001b[39m\u001b[38;5;124m\"\u001b[39m\u001b[38;5;124mConnecté à \u001b[39m\u001b[38;5;132;01m{\u001b[39;00marduino_port\u001b[38;5;132;01m}\u001b[39;00m\u001b[38;5;124m\"\u001b[39m)\n\u001b[1;32m---> 12\u001b[0m \u001b[38;5;28;01mexcept\u001b[39;00m serial\u001b[38;5;241m.\u001b[39mSerialException \u001b[38;5;28;01mas\u001b[39;00m e:\n\u001b[0;32m     13\u001b[0m     \u001b[38;5;28mprint\u001b[39m(\u001b[38;5;124mf\u001b[39m\u001b[38;5;124m\"\u001b[39m\u001b[38;5;124mErreur : Impossible de se connecter au port \u001b[39m\u001b[38;5;132;01m{\u001b[39;00marduino_port\u001b[38;5;132;01m}\u001b[39;00m\u001b[38;5;124m\"\u001b[39m)\n\u001b[0;32m     14\u001b[0m     \u001b[38;5;28;01mraise\u001b[39;00m e\n",
      "\u001b[1;31mNameError\u001b[0m: name 'serial' is not defined"
     ]
    }
   ],
   "source": [
    "import re\n",
    "\n",
    "# Configuration du port série pour Arduino\n",
    "arduino_port = \"COM3\"  # Remplacez par votre port série (exemple : COM3 ou /dev/ttyUSB0)\n",
    "baud_rate = 9600       # Assurez-vous que le débit en bauds correspond à celui de l'Arduino\n",
    "nb_mesures_max = 10     # Nombre maximum de mesures avant d'enregistrer dans un fichier\n",
    "\n",
    "# Initialisation de la connexion série\n",
    "try:\n",
    "    ser = serial.Serial(arduino_port, baud_rate, timeout=2)\n",
    "    print(f\"Connecté à {arduino_port}\")\n",
    "except serial.SerialException as e:\n",
    "    print(f\"Erreur : Impossible de se connecter au port {arduino_port}\")\n",
    "    raise e\n",
    "\n",
    "# Liste pour stocker les mesures\n",
    "mesures = []\n",
    "\n",
    "# Fonction pour envoyer une commande à l'Arduino\n",
    "def envoyer_commande(commande):\n",
    "    ser.write((commande + '\\n').encode('utf-8'))  # Envoyer la commande au port série\n",
    "    print(f\"Commande envoyée : {commande}\")\n",
    "\n",
    "# Fonction pour extraire la valeur de mesure depuis une ligne Arduino\n",
    "def extraire_mesure(ligne):\n",
    "    match = re.search(r\"=>\\s*([\\d.]+)\\s*kg\", ligne)  # Rechercher la valeur après '=>'\n",
    "    if match:\n",
    "        return float(match.group(1))  # Retourner la valeur en tant que float\n",
    "    return None\n",
    "\n",
    "# Fonction pour enregistrer les mesures dans un fichier texte\n",
    "def enregistrer_mesures(nom_fichier, mesures):\n",
    "    with open(nom_fichier, \"w\") as fichier:\n",
    "        fichier.write(\"Mesures en kg :\\n\")\n",
    "        for i, mesure in enumerate(mesures, start=1):\n",
    "            fichier.write(f\"Mesure {i} : {mesure} kg\\n\")\n",
    "    print(f\"Les mesures ont été enregistrées dans le fichier : {nom_fichier}\")\n",
    "\n",
    "# Lecture et interaction\n",
    "try:\n",
    "    while True:\n",
    "        commande = input(\"Tapez 'n' pour collecter une mesure, ou 'q' pour quitter : \")\n",
    "\n",
    "        if commande.lower() == 'q':  # Quitter le programme\n",
    "            if mesures:\n",
    "                nom_fichier = input(\"Entrez le nom du fichier pour enregistrer les mesures : \")\n",
    "                enregistrer_mesures(nom_fichier, mesures)\n",
    "            print(\"Arrêt du programme.\")\n",
    "            break\n",
    "\n",
    "        elif commande.lower() == 'n':  # Collecter une mesure\n",
    "            envoyer_commande('n')  # Envoyer la commande 'n' à l'Arduino\n",
    "            print(\"Attente de la mesure...\")\n",
    "\n",
    "            # Lecture de la première mesure\n",
    "            while True:\n",
    "                if ser.in_waiting > 0:  # Vérifie si des données sont disponibles\n",
    "                    ligne = ser.readline().decode('utf-8').strip()  # Lire une ligne et la décoder\n",
    "                    print(f\"Reçu : {ligne}\")  # Afficher la ligne brute pour vérification\n",
    "                    mesure = extraire_mesure(ligne)  # Extraire la mesure\n",
    "                    if mesure is not None:\n",
    "                        mesures.append(mesure)\n",
    "                        print(f\"Première mesure validée : {mesure} kg\")\n",
    "                        break\n",
    "\n",
    "            # Vérifier si on a atteint le maximum de mesures\n",
    "            if len(mesures) == nb_mesures_max:\n",
    "                print(f\"Vous avez collecté {nb_mesures_max} mesures.\")\n",
    "                nom_fichier = input(\"Entrez le nom du fichier pour enregistrer les mesures : \")\n",
    "                enregistrer_mesures(nom_fichier, mesures)\n",
    "                mesures = []  # Réinitialiser la liste des mesures\n",
    "\n",
    "except KeyboardInterrupt:\n",
    "    # Gestion de l'arrêt avec Ctrl+C\n",
    "    print(\"\\nArrêt du programme par l'utilisateur.\")\n",
    "    if mesures:\n",
    "        nom_fichier = input(\"Entrez le nom du fichier pour enregistrer les mesures restantes : \")\n",
    "        enregistrer_mesures(nom_fichier, mesures)\n",
    "    ser.close()\n",
    "    print(\"Connexion série fermée.\")"
   ]
  },
  {
   "cell_type": "code",
   "execution_count": null,
   "id": "fc31b902-7638-484a-8bc6-3aa6c4e3aa9f",
   "metadata": {},
   "outputs": [
    {
     "name": "stdout",
     "output_type": "stream",
     "text": [
      "Connecté à COM3\n"
     ]
    },
    {
     "name": "stdin",
     "output_type": "stream",
     "text": [
      "Tapez 'n' pour collecter une mesure, ou 'q' pour quitter :  n\n"
     ]
    },
    {
     "name": "stdout",
     "output_type": "stream",
     "text": [
      "Commande envoyée : n\n",
      "Attente de la mesure...\n",
      "Reçu : mesure 0 => 0.000 kg\n",
      "Mesure validée : 0.0 kg\n"
     ]
    },
    {
     "name": "stdin",
     "output_type": "stream",
     "text": [
      "Tapez 'n' pour collecter une mesure, ou 'q' pour quitter :  n\n"
     ]
    },
    {
     "name": "stdout",
     "output_type": "stream",
     "text": [
      "Commande envoyée : n\n",
      "Attente de la mesure...\n",
      "Reçu : mesure 1 => 0.000 kg\n",
      "Mesure validée : 0.0 kg\n"
     ]
    },
    {
     "name": "stdin",
     "output_type": "stream",
     "text": [
      "Tapez 'n' pour collecter une mesure, ou 'q' pour quitter :  n\n"
     ]
    },
    {
     "name": "stdout",
     "output_type": "stream",
     "text": [
      "Commande envoyée : n\n",
      "Attente de la mesure...\n",
      "Reçu : mesure 2 => 0.000 kg\n",
      "Mesure validée : 0.0 kg\n"
     ]
    },
    {
     "name": "stdin",
     "output_type": "stream",
     "text": [
      "Tapez 'n' pour collecter une mesure, ou 'q' pour quitter :  q\n"
     ]
    }
   ],
   "source": [
    "import serial\n",
    "import re\n",
    "\n",
    "# Configuration du port série pour Arduino\n",
    "arduino_port = \"COM3\"  # Remplacez par votre port série (exemple : COM3 ou /dev/ttyUSB0)\n",
    "baud_rate = 9600       # Assurez-vous que le débit en bauds correspond à celui de l'Arduino\n",
    "nb_mesures_max = 10     # Nombre maximum de mesures avant d'enregistrer dans un fichier\n",
    "\n",
    "# Initialisation de la connexion série\n",
    "try:\n",
    "    ser = serial.Serial(arduino_port, baud_rate, timeout=2)\n",
    "    print(f\"Connecté à {arduino_port}\")\n",
    "except serial.SerialException as e:\n",
    "    print(f\"Erreur : Impossible de se connecter au port {arduino_port}\")\n",
    "    raise e\n",
    "\n",
    "# Liste pour stocker les mesures\n",
    "mesures = []\n",
    "\n",
    "# Fonction pour envoyer une commande à l'Arduino\n",
    "def envoyer_commande(commande):\n",
    "    ser.write((commande + '\\n').encode('utf-8'))  # Envoyer la commande au port série\n",
    "    print(f\"Commande envoyée : {commande}\")\n",
    "\n",
    "# Fonction pour extraire la valeur de mesure depuis une ligne Arduino\n",
    "def extraire_mesure(ligne):\n",
    "    match = re.search(r\"=>\\s*([\\d.]+)\\s*kg\", ligne)  # Rechercher la valeur après '=>'\n",
    "    if match:\n",
    "        return float(match.group(1))  # Retourner la valeur en tant que float\n",
    "    return None\n",
    "\n",
    "# Fonction pour enregistrer les mesures dans un fichier texte\n",
    "def enregistrer_mesures(nom_fichier, mesures):\n",
    "    with open(nom_fichier, \"w\") as fichier:\n",
    "        fichier.write(\"Mesures en kg :\\n\")\n",
    "        for i, mesure in enumerate(mesures, start=1):\n",
    "            fichier.write(f\"Mesure {i} : {mesure} kg\\n\")\n",
    "    print(f\"Les mesures ont été enregistrées dans le fichier : {nom_fichier}\")\n",
    "\n",
    "# Lecture et interaction\n",
    "try:\n",
    "    while True:\n",
    "        commande = input(\"Tapez 'n' pour collecter une mesure, ou 'q' pour quitter : \")\n",
    "\n",
    "        if commande.lower() == 'q':  # Quitter le programme\n",
    "            if mesures:\n",
    "                nom_fichier = input(\"Entrez le nom du fichier pour enregistrer les mesures : \")\n",
    "                enregistrer_mesures(nom_fichier, mesures)\n",
    "            print(\"Arrêt du programme.\")\n",
    "            break\n",
    "\n",
    "        elif commande.lower() == 'n':  # Collecter une mesure\n",
    "            envoyer_commande('n')  # Envoyer la commande 'n' à l'Arduino\n",
    "            print(\"Attente de la mesure...\")\n",
    "\n",
    "            # Lecture de la première mesure\n",
    "            while True:\n",
    "                if ser.in_waiting > 0:  # Vérifie si des données sont disponibles\n",
    "                    ligne = ser.readline().decode('utf-8').strip()  # Lire une ligne et la décoder\n",
    "                    print(f\"Reçu : {ligne}\")  # Afficher la ligne brute pour vérification\n",
    "                    mesure = extraire_mesure(ligne)  # Extraire la mesure\n",
    "                    if mesure is not None:\n",
    "                        mesures.append(mesure)\n",
    "                        print(f\"Mesure validée : {mesure} kg\")\n",
    "                        break\n",
    "\n",
    "            # Vérifier si on a atteint le maximum de mesures\n",
    "            if len(mesures) == nb_mesures_max:\n",
    "                print(f\"Vous avez collecté {nb_mesures_max} mesures.\")\n",
    "                nom_fichier = input(\"Entrez le nom du fichier pour enregistrer les mesures : \")\n",
    "                enregistrer_mesures(nom_fichier, mesures)\n",
    "                mesures = []  # Réinitialiser la liste des mesures\n",
    "\n",
    "except KeyboardInterrupt:\n",
    "    # Gestion de l'arrêt avec Ctrl+C\n",
    "    print(\"\\nArrêt du programme par l'utilisateur.\")\n",
    "    if mesures:\n",
    "        nom_fichier = input(\"Entrez le nom du fichier pour enregistrer les mesures restantes : \")\n",
    "        enregistrer_mesures(nom_fichier, mesures)\n",
    "    ser.close()\n",
    "    print(\"Connexion série fermée.\")\n"
   ]
  },
  {
   "cell_type": "code",
   "execution_count": 1,
   "id": "babeba23-3145-4c5f-a294-f8d0ed5c7c5c",
   "metadata": {},
   "outputs": [
    {
     "name": "stdout",
     "output_type": "stream",
     "text": [
      "Connecté à COM3\n"
     ]
    },
    {
     "name": "stdin",
     "output_type": "stream",
     "text": [
      "Tapez 'n' pour collecter une mesure, ou 'q' pour quitter :  n\n"
     ]
    },
    {
     "name": "stdout",
     "output_type": "stream",
     "text": [
      "Commande envoyée : n\n",
      "Attente de la mesure...\n",
      "Reçu : mesure 0 => 1.103 kg\n",
      "Mesure validée : 1.103 kg\n",
      "Reçu : mesure 1 => 1.046 kg\n",
      "Mesure validée : 1.046 kg\n",
      "Reçu : mesure 2 => 1.016 kg\n",
      "Mesure validée : 1.016 kg\n",
      "Reçu : mesure 3 => 0.994 kg\n",
      "Mesure validée : 0.994 kg\n",
      "Reçu : mesure 4 => 1.004 kg\n",
      "Mesure validée : 1.004 kg\n",
      "Reçu : mesure 5 => 0.964 kg\n",
      "Mesure validée : 0.964 kg\n",
      "Reçu : mesure 6 => 0.957 kg\n",
      "Mesure validée : 0.957 kg\n",
      "Reçu : mesure 7 => 0.912 kg\n",
      "Mesure validée : 0.912 kg\n"
     ]
    },
    {
     "name": "stdin",
     "output_type": "stream",
     "text": [
      "Tapez 'n' pour collecter une mesure, ou 'q' pour quitter :  n\n"
     ]
    },
    {
     "name": "stdout",
     "output_type": "stream",
     "text": [
      "Commande envoyée : n\n",
      "Attente de la mesure...\n",
      "Reçu : mesure 8 => 0.867 kg\n",
      "Mesure validée : 0.867 kg\n",
      "Reçu : mesure 9 => 0.837 kg\n",
      "Mesure validée : 0.837 kg\n",
      "Reçu : Press n to start aquisiton\n",
      "Erreur : Données reçues non valides.\n",
      "Reçu : mesure 0 => 0.078 kg\n",
      "Mesure validée : 0.078 kg\n",
      "Reçu : mesure 1 => 0.078 kg\n",
      "Mesure validée : 0.078 kg\n",
      "Reçu : mesure 2 => 0.078 kg\n",
      "Mesure validée : 0.078 kg\n",
      "Reçu : mesure 3 => 0.078 kg\n",
      "Mesure validée : 0.078 kg\n",
      "Reçu : mesure 4 => 0.078 kg\n",
      "Mesure validée : 0.078 kg\n",
      "Reçu : mesure 5 => 0.078 kg\n",
      "Mesure validée : 0.078 kg\n",
      "Reçu : mesure 6 => 0.078 kg\n",
      "Mesure validée : 0.078 kg\n",
      "Vous avez collecté 10 mesures.\n"
     ]
    },
    {
     "name": "stdin",
     "output_type": "stream",
     "text": [
      "Entrez le nom du fichier pour enregistrer les mesures :  n\n"
     ]
    },
    {
     "name": "stdout",
     "output_type": "stream",
     "text": [
      "Les mesures ont été enregistrées dans le fichier : n\n"
     ]
    },
    {
     "name": "stdin",
     "output_type": "stream",
     "text": [
      "Tapez 'n' pour collecter une mesure, ou 'q' pour quitter :  n\n"
     ]
    },
    {
     "name": "stdout",
     "output_type": "stream",
     "text": [
      "Commande envoyée : n\n",
      "Attente de la mesure...\n",
      "Reçu : mesure 7 => 0.078 kg\n",
      "Mesure validée : 0.078 kg\n",
      "Reçu : mesure 8 => 0.078 kg\n",
      "Mesure validée : 0.078 kg\n",
      "Reçu : mesure 9 => 0.078 kg\n",
      "Mesure validée : 0.078 kg\n",
      "Reçu : Press n to start aquisiton\n",
      "Erreur : Données reçues non valides.\n",
      "Reçu : mesure 0 => 0.056 kg\n",
      "Mesure validée : 0.056 kg\n",
      "Reçu : mesure 1 => 0.057 kg\n",
      "Mesure validée : 0.057 kg\n",
      "Reçu : mesure 2 => 0.057 kg\n",
      "Mesure validée : 0.057 kg\n",
      "Reçu : mesure 3 => 0.056 kg\n",
      "Mesure validée : 0.056 kg\n",
      "Reçu : mesure 4 => 0.057 kg\n",
      "Mesure validée : 0.057 kg\n",
      "Reçu : mesure 5 => 0.028 kg\n",
      "Mesure validée : 0.028 kg\n"
     ]
    },
    {
     "name": "stdin",
     "output_type": "stream",
     "text": [
      "Tapez 'n' pour collecter une mesure, ou 'q' pour quitter :  n\n"
     ]
    },
    {
     "name": "stdout",
     "output_type": "stream",
     "text": [
      "Commande envoyée : n\n",
      "Attente de la mesure...\n",
      "Reçu : mesure 6 => 0.054 kg\n",
      "Mesure validée : 0.054 kg\n",
      "Reçu : mesure 7 => 0.057 kg\n",
      "Mesure validée : 0.057 kg\n",
      "Reçu : mesure 8 => 0.056 kg\n",
      "Mesure validée : 0.056 kg\n",
      "Reçu : mesure 9 => 0.057 kg\n",
      "Mesure validée : 0.057 kg\n",
      "Reçu : Press n to start aquisiton\n",
      "Erreur : Données reçues non valides.\n",
      "Reçu : mesure 0 => 0.044 kg\n",
      "Mesure validée : 0.044 kg\n",
      "Reçu : mesure 1 => 0.044 kg\n",
      "Mesure validée : 0.044 kg\n",
      "Reçu : mesure 2 => 0.044 kg\n",
      "Mesure validée : 0.044 kg\n",
      "Reçu : mesure 3 => 0.044 kg\n",
      "Mesure validée : 0.044 kg\n",
      "Reçu : mesure 4 => 0.044 kg\n",
      "Mesure validée : 0.044 kg\n",
      "Vous avez collecté 10 mesures.\n"
     ]
    },
    {
     "name": "stdin",
     "output_type": "stream",
     "text": [
      "Entrez le nom du fichier pour enregistrer les mesures :  n\n"
     ]
    },
    {
     "name": "stdout",
     "output_type": "stream",
     "text": [
      "Les mesures ont été enregistrées dans le fichier : n\n"
     ]
    },
    {
     "name": "stdin",
     "output_type": "stream",
     "text": [
      "Tapez 'n' pour collecter une mesure, ou 'q' pour quitter :  n\n"
     ]
    },
    {
     "name": "stdout",
     "output_type": "stream",
     "text": [
      "Commande envoyée : n\n",
      "Attente de la mesure...\n",
      "Reçu : mesure 5 => 0.044 kg\n",
      "Mesure validée : 0.044 kg\n",
      "Reçu : mesure 6 => 0.044 kg\n",
      "Mesure validée : 0.044 kg\n",
      "Reçu : mesure 7 => 0.044 kg\n",
      "Mesure validée : 0.044 kg\n",
      "Reçu : mesure 8 => 0.044 kg\n",
      "Mesure validée : 0.044 kg\n",
      "Reçu : mesure 9 => 0.044 kg\n",
      "Mesure validée : 0.044 kg\n",
      "Reçu : Press n to start aquisiton\n",
      "Erreur : Données reçues non valides.\n",
      "Reçu : mesure 0 => 0.124 kg\n",
      "Mesure validée : 0.124 kg\n",
      "Reçu : mesure 1 => 0.124 kg\n",
      "Mesure validée : 0.124 kg\n",
      "Reçu : mesure 2 => 0.124 kg\n",
      "Mesure validée : 0.124 kg\n",
      "Reçu : mesure 3 => 0.124 kg\n",
      "Mesure validée : 0.124 kg\n"
     ]
    },
    {
     "name": "stdin",
     "output_type": "stream",
     "text": [
      "Tapez 'n' pour collecter une mesure, ou 'q' pour quitter :  n\n"
     ]
    },
    {
     "name": "stdout",
     "output_type": "stream",
     "text": [
      "Commande envoyée : n\n",
      "Attente de la mesure...\n",
      "Reçu : mesure 4 => 0.124 kg\n",
      "Mesure validée : 0.124 kg\n",
      "Reçu : mesure 5 => 0.124 kg\n",
      "Mesure validée : 0.124 kg\n",
      "Reçu : mesure 6 => 0.124 kg\n",
      "Mesure validée : 0.124 kg\n",
      "Reçu : mesure 7 => 0.124 kg\n",
      "Mesure validée : 0.124 kg\n",
      "Reçu : mesure 8 => 0.124 kg\n",
      "Mesure validée : 0.124 kg\n",
      "Reçu : mesure 9 => 0.124 kg\n",
      "Mesure validée : 0.124 kg\n",
      "Reçu : Press n to start aquisiton\n",
      "Erreur : Données reçues non valides.\n",
      "Reçu : mesure 0 => 0.583 kg\n",
      "Mesure validée : 0.583 kg\n",
      "Reçu : mesure 1 => 0.617 kg\n",
      "Mesure validée : 0.617 kg\n",
      "Reçu : mesure 2 => 0.622 kg\n",
      "Mesure validée : 0.622 kg\n",
      "Vous avez collecté 10 mesures.\n"
     ]
    },
    {
     "name": "stdin",
     "output_type": "stream",
     "text": [
      "Entrez le nom du fichier pour enregistrer les mesures :  sefana_test2\n"
     ]
    },
    {
     "name": "stdout",
     "output_type": "stream",
     "text": [
      "Les mesures ont été enregistrées dans le fichier : sefana_test2\n"
     ]
    },
    {
     "name": "stdin",
     "output_type": "stream",
     "text": [
      "Tapez 'n' pour collecter une mesure, ou 'q' pour quitter :  q\n"
     ]
    },
    {
     "name": "stdout",
     "output_type": "stream",
     "text": [
      "Arrêt du programme.\n"
     ]
    }
   ],
   "source": [
    "import serial\n",
    "import re\n",
    "import time\n",
    "\n",
    "# Configuration du port série pour Arduino\n",
    "arduino_port = \"COM3\"  # Remplacez par votre port série (exemple : COM3 ou /dev/ttyUSB0)\n",
    "baud_rate = 9600       # Assurez-vous que le débit en bauds correspond à celui de l'Arduino\n",
    "nb_mesures_max = 10     # Nombre maximum de mesures avant d'enregistrer dans un fichier\n",
    "\n",
    "# Initialisation de la connexion série\n",
    "try:\n",
    "    ser = serial.Serial(arduino_port, baud_rate, timeout=2)\n",
    "    print(f\"Connecté à {arduino_port}\")\n",
    "except serial.SerialException as e:\n",
    "    print(f\"Erreur : Impossible de se connecter au port {arduino_port}\")\n",
    "    raise e\n",
    "\n",
    "# Liste pour stocker les mesures\n",
    "mesures = []\n",
    "\n",
    "# Fonction pour envoyer une commande à l'Arduino\n",
    "def envoyer_commande(commande):\n",
    "    ser.write((commande + '\\n').encode('utf-8'))  # Envoyer la commande au port série\n",
    "    print(f\"Commande envoyée : {commande}\")\n",
    "\n",
    "# Fonction pour extraire la valeur de mesure depuis une ligne Arduino\n",
    "def extraire_mesure(ligne):\n",
    "    match = re.search(r\"=>\\s*([\\d.]+)\\s*kg\", ligne)  # Rechercher la valeur après '=>'\n",
    "    if match:\n",
    "        return float(match.group(1))  # Retourner la valeur en tant que float\n",
    "    return None\n",
    "\n",
    "# Fonction pour enregistrer les mesures dans un fichier texte\n",
    "def enregistrer_mesures(nom_fichier, mesures):\n",
    "    with open(nom_fichier, \"w\") as fichier:\n",
    "        fichier.write(\"Mesures en kg :\\n\")\n",
    "        for i, mesure in enumerate(mesures, start=1):\n",
    "            fichier.write(f\"Mesure {i} : {mesure} kg\\n\")\n",
    "    print(f\"Les mesures ont été enregistrées dans le fichier : {nom_fichier}\")\n",
    "\n",
    "# Lecture et interaction\n",
    "try:\n",
    "    while True:\n",
    "        commande = input(\"Tapez 'n' pour collecter une mesure, ou 'q' pour quitter : \")\n",
    "\n",
    "        if commande.lower() == 'q':  # Quitter le programme\n",
    "            if mesures:\n",
    "                nom_fichier = input(\"Entrez le nom du fichier pour enregistrer les mesures : \")\n",
    "                enregistrer_mesures(nom_fichier, mesures)\n",
    "            print(\"Arrêt du programme.\")\n",
    "            break\n",
    "\n",
    "        elif commande.lower() == 'n':  # Collecter une mesure\n",
    "            envoyer_commande('n')  # Envoyer la commande 'n' à l'Arduino\n",
    "            print(\"Attente de la mesure...\")\n",
    "\n",
    "            # Lecture de la première mesure\n",
    "            for _ in range(nb_mesures_max):\n",
    "                if ser.in_waiting > 0:  # Vérifie si des données sont disponibles\n",
    "                    ligne = ser.readline().decode('utf-8').strip()  # Lire une ligne et la décoder\n",
    "                    print(f\"Reçu : {ligne}\")  # Afficher la ligne brute pour vérification\n",
    "                    mesure = extraire_mesure(ligne)  # Extraire la mesure\n",
    "                    if mesure is not None:\n",
    "                        if mesure != 0:  # Vérification des mesures nulles\n",
    "                            mesures.append(mesure)\n",
    "                            print(f\"Mesure validée : {mesure} kg\")\n",
    "                        else:\n",
    "                            print(\"Avertissement : Mesure nulle reçue, vérifiez le capteur.\")\n",
    "                    else:\n",
    "                        print(\"Erreur : Données reçues non valides.\")\n",
    "                time.sleep(1)  # Attente entre deux lectures\n",
    "\n",
    "            # Vérifier si on a atteint le maximum de mesures\n",
    "            if len(mesures) >= nb_mesures_max:\n",
    "                print(f\"Vous avez collecté {nb_mesures_max} mesures.\")\n",
    "                nom_fichier = input(\"Entrez le nom du fichier pour enregistrer les mesures : \")\n",
    "                enregistrer_mesures(nom_fichier, mesures)\n",
    "                mesures = []  # Réinitialiser la liste des mesures\n",
    "\n",
    "except KeyboardInterrupt:\n",
    "    # Gestion de l'arrêt avec Ctrl+C\n",
    "    print(\"\\nArrêt du programme par l'utilisateur.\")\n",
    "    if mesures:\n",
    "        nom_fichier = input(\"Entrez le nom du fichier pour enregistrer les mesures restantes : \")\n",
    "        enregistrer_mesures(nom_fichier, mesures)\n",
    "    ser.close()\n",
    "    print(\"Connexion série fermée.\")\n"
   ]
  },
  {
   "cell_type": "code",
   "execution_count": 1,
   "id": "798dd64a-dc6f-476f-9ae1-eb60331a26bd",
   "metadata": {},
   "outputs": [
    {
     "name": "stdout",
     "output_type": "stream",
     "text": [
      "Connecté à COM3\n"
     ]
    },
    {
     "name": "stdin",
     "output_type": "stream",
     "text": [
      "Tapez 'n' pour collecter une mesure, ou 'q' pour quitter :  n\n"
     ]
    },
    {
     "name": "stdout",
     "output_type": "stream",
     "text": [
      "Commande envoyée : n\n",
      "Attente de la mesure...\n",
      "Reçu : mesure 0 => 1.103 kg\n",
      "Mesure validée : 1.103 kg\n",
      "Reçu : mesure 1 => 1.046 kg\n",
      "Mesure validée : 1.046 kg\n",
      "Reçu : mesure 2 => 1.016 kg\n",
      "Mesure validée : 1.016 kg\n",
      "Reçu : mesure 3 => 0.994 kg\n",
      "Mesure validée : 0.994 kg\n",
      "Reçu : mesure 4 => 1.004 kg\n",
      "Mesure validée : 1.004 kg\n",
      "Reçu : mesure 5 => 0.964 kg\n",
      "Mesure validée : 0.964 kg\n",
      "Reçu : mesure 6 => 0.957 kg\n",
      "Mesure validée : 0.957 kg\n",
      "Reçu : mesure 7 => 0.912 kg\n",
      "Mesure validée : 0.912 kg\n"
     ]
    },
    {
     "name": "stdin",
     "output_type": "stream",
     "text": [
      "Tapez 'n' pour collecter une mesure, ou 'q' pour quitter :  n\n"
     ]
    },
    {
     "name": "stdout",
     "output_type": "stream",
     "text": [
      "Commande envoyée : n\n",
      "Attente de la mesure...\n",
      "Reçu : mesure 8 => 0.867 kg\n",
      "Mesure validée : 0.867 kg\n",
      "Reçu : mesure 9 => 0.837 kg\n",
      "Mesure validée : 0.837 kg\n",
      "Reçu : Press n to start aquisiton\n",
      "Erreur : Données reçues non valides.\n",
      "Reçu : mesure 0 => 0.078 kg\n",
      "Mesure validée : 0.078 kg\n",
      "Reçu : mesure 1 => 0.078 kg\n",
      "Mesure validée : 0.078 kg\n",
      "Reçu : mesure 2 => 0.078 kg\n",
      "Mesure validée : 0.078 kg\n",
      "Reçu : mesure 3 => 0.078 kg\n",
      "Mesure validée : 0.078 kg\n",
      "Reçu : mesure 4 => 0.078 kg\n",
      "Mesure validée : 0.078 kg\n",
      "Reçu : mesure 5 => 0.078 kg\n",
      "Mesure validée : 0.078 kg\n",
      "Reçu : mesure 6 => 0.078 kg\n",
      "Mesure validée : 0.078 kg\n",
      "Vous avez collecté 10 mesures.\n"
     ]
    },
    {
     "name": "stdin",
     "output_type": "stream",
     "text": [
      "Entrez le nom du fichier pour enregistrer les mesures :  n\n"
     ]
    },
    {
     "name": "stdout",
     "output_type": "stream",
     "text": [
      "Les mesures ont été enregistrées dans le fichier : n\n"
     ]
    },
    {
     "name": "stdin",
     "output_type": "stream",
     "text": [
      "Tapez 'n' pour collecter une mesure, ou 'q' pour quitter :  n\n"
     ]
    },
    {
     "name": "stdout",
     "output_type": "stream",
     "text": [
      "Commande envoyée : n\n",
      "Attente de la mesure...\n",
      "Reçu : mesure 7 => 0.078 kg\n",
      "Mesure validée : 0.078 kg\n",
      "Reçu : mesure 8 => 0.078 kg\n",
      "Mesure validée : 0.078 kg\n",
      "Reçu : mesure 9 => 0.078 kg\n",
      "Mesure validée : 0.078 kg\n",
      "Reçu : Press n to start aquisiton\n",
      "Erreur : Données reçues non valides.\n",
      "Reçu : mesure 0 => 0.056 kg\n",
      "Mesure validée : 0.056 kg\n",
      "Reçu : mesure 1 => 0.057 kg\n",
      "Mesure validée : 0.057 kg\n",
      "Reçu : mesure 2 => 0.057 kg\n",
      "Mesure validée : 0.057 kg\n",
      "Reçu : mesure 3 => 0.056 kg\n",
      "Mesure validée : 0.056 kg\n",
      "Reçu : mesure 4 => 0.057 kg\n",
      "Mesure validée : 0.057 kg\n",
      "Reçu : mesure 5 => 0.028 kg\n",
      "Mesure validée : 0.028 kg\n"
     ]
    },
    {
     "name": "stdin",
     "output_type": "stream",
     "text": [
      "Tapez 'n' pour collecter une mesure, ou 'q' pour quitter :  n\n"
     ]
    },
    {
     "name": "stdout",
     "output_type": "stream",
     "text": [
      "Commande envoyée : n\n",
      "Attente de la mesure...\n",
      "Reçu : mesure 6 => 0.054 kg\n",
      "Mesure validée : 0.054 kg\n",
      "Reçu : mesure 7 => 0.057 kg\n",
      "Mesure validée : 0.057 kg\n",
      "Reçu : mesure 8 => 0.056 kg\n",
      "Mesure validée : 0.056 kg\n",
      "Reçu : mesure 9 => 0.057 kg\n",
      "Mesure validée : 0.057 kg\n",
      "Reçu : Press n to start aquisiton\n",
      "Erreur : Données reçues non valides.\n",
      "Reçu : mesure 0 => 0.044 kg\n",
      "Mesure validée : 0.044 kg\n",
      "Reçu : mesure 1 => 0.044 kg\n",
      "Mesure validée : 0.044 kg\n",
      "Reçu : mesure 2 => 0.044 kg\n",
      "Mesure validée : 0.044 kg\n",
      "Reçu : mesure 3 => 0.044 kg\n",
      "Mesure validée : 0.044 kg\n",
      "Reçu : mesure 4 => 0.044 kg\n",
      "Mesure validée : 0.044 kg\n",
      "Vous avez collecté 10 mesures.\n"
     ]
    },
    {
     "name": "stdin",
     "output_type": "stream",
     "text": [
      "Entrez le nom du fichier pour enregistrer les mesures :  n\n"
     ]
    },
    {
     "name": "stdout",
     "output_type": "stream",
     "text": [
      "Les mesures ont été enregistrées dans le fichier : n\n"
     ]
    },
    {
     "name": "stdin",
     "output_type": "stream",
     "text": [
      "Tapez 'n' pour collecter une mesure, ou 'q' pour quitter :  n\n"
     ]
    },
    {
     "name": "stdout",
     "output_type": "stream",
     "text": [
      "Commande envoyée : n\n",
      "Attente de la mesure...\n",
      "Reçu : mesure 5 => 0.044 kg\n",
      "Mesure validée : 0.044 kg\n",
      "Reçu : mesure 6 => 0.044 kg\n",
      "Mesure validée : 0.044 kg\n",
      "Reçu : mesure 7 => 0.044 kg\n",
      "Mesure validée : 0.044 kg\n",
      "Reçu : mesure 8 => 0.044 kg\n",
      "Mesure validée : 0.044 kg\n",
      "Reçu : mesure 9 => 0.044 kg\n",
      "Mesure validée : 0.044 kg\n",
      "Reçu : Press n to start aquisiton\n",
      "Erreur : Données reçues non valides.\n",
      "Reçu : mesure 0 => 0.124 kg\n",
      "Mesure validée : 0.124 kg\n",
      "Reçu : mesure 1 => 0.124 kg\n",
      "Mesure validée : 0.124 kg\n",
      "Reçu : mesure 2 => 0.124 kg\n",
      "Mesure validée : 0.124 kg\n",
      "Reçu : mesure 3 => 0.124 kg\n",
      "Mesure validée : 0.124 kg\n"
     ]
    },
    {
     "name": "stdin",
     "output_type": "stream",
     "text": [
      "Tapez 'n' pour collecter une mesure, ou 'q' pour quitter :  n\n"
     ]
    },
    {
     "name": "stdout",
     "output_type": "stream",
     "text": [
      "Commande envoyée : n\n",
      "Attente de la mesure...\n",
      "Reçu : mesure 4 => 0.124 kg\n",
      "Mesure validée : 0.124 kg\n",
      "Reçu : mesure 5 => 0.124 kg\n",
      "Mesure validée : 0.124 kg\n",
      "Reçu : mesure 6 => 0.124 kg\n",
      "Mesure validée : 0.124 kg\n",
      "Reçu : mesure 7 => 0.124 kg\n",
      "Mesure validée : 0.124 kg\n",
      "Reçu : mesure 8 => 0.124 kg\n",
      "Mesure validée : 0.124 kg\n",
      "Reçu : mesure 9 => 0.124 kg\n",
      "Mesure validée : 0.124 kg\n",
      "Reçu : Press n to start aquisiton\n",
      "Erreur : Données reçues non valides.\n",
      "Reçu : mesure 0 => 0.583 kg\n",
      "Mesure validée : 0.583 kg\n",
      "Reçu : mesure 1 => 0.617 kg\n",
      "Mesure validée : 0.617 kg\n",
      "Reçu : mesure 2 => 0.622 kg\n",
      "Mesure validée : 0.622 kg\n",
      "Vous avez collecté 10 mesures.\n"
     ]
    },
    {
     "name": "stdin",
     "output_type": "stream",
     "text": [
      "Entrez le nom du fichier pour enregistrer les mesures :  sefana_test2\n"
     ]
    },
    {
     "name": "stdout",
     "output_type": "stream",
     "text": [
      "Les mesures ont été enregistrées dans le fichier : sefana_test2\n"
     ]
    },
    {
     "name": "stdin",
     "output_type": "stream",
     "text": [
      "Tapez 'n' pour collecter une mesure, ou 'q' pour quitter :  q\n"
     ]
    },
    {
     "name": "stdout",
     "output_type": "stream",
     "text": [
      "Arrêt du programme.\n"
     ]
    }
   ],
   "source": [
    "import serial\n",
    "import re\n",
    "import time\n",
    "\n",
    "# Configuration du port série pour Arduino\n",
    "arduino_port = \"COM3\"  # Remplacez par votre port série (exemple : COM3 ou /dev/ttyUSB0)\n",
    "baud_rate = 9600       # Assurez-vous que le débit en bauds correspond à celui de l'Arduino\n",
    "nb_mesures_max = 10     # Nombre maximum de mesures avant d'enregistrer dans un fichier\n",
    "\n",
    "# Initialisation de la connexion série\n",
    "try:\n",
    "    ser = serial.Serial(arduino_port, baud_rate, timeout=2)\n",
    "    print(f\"Connecté à {arduino_port}\")\n",
    "except serial.SerialException as e:\n",
    "    print(f\"Erreur : Impossible de se connecter au port {arduino_port}\")\n",
    "    raise e\n",
    "\n",
    "# Liste pour stocker les mesures\n",
    "mesures = []\n",
    "\n",
    "# Fonction pour envoyer une commande à l'Arduino\n",
    "def envoyer_commande(commande):\n",
    "    ser.write((commande + '\\n').encode('utf-8'))  # Envoyer la commande au port série\n",
    "    print(f\"Commande envoyée : {commande}\")\n",
    "\n",
    "# Fonction pour extraire la valeur de mesure depuis une ligne Arduino\n",
    "def extraire_mesure(ligne):\n",
    "    match = re.search(r\"=>\\s*([\\d.]+)\\s*kg\", ligne)  # Rechercher la valeur après '=>'\n",
    "    if match:\n",
    "        return float(match.group(1))  # Retourner la valeur en tant que float\n",
    "    return None\n",
    "\n",
    "# Fonction pour enregistrer les mesures dans un fichier texte\n",
    "def enregistrer_mesures(nom_fichier, mesures):\n",
    "    with open(nom_fichier, \"w\") as fichier:\n",
    "        fichier.write(\"Mesures en kg :\\n\")\n",
    "        for i, mesure in enumerate(mesures, start=1):\n",
    "            fichier.write(f\"Mesure {i} : {mesure} kg\\n\")\n",
    "    print(f\"Les mesures ont été enregistrées dans le fichier : {nom_fichier}\")\n",
    "\n",
    "# Lecture et interaction\n",
    "try:\n",
    "    while True:\n",
    "        commande = input(\"Tapez 'n' pour collecter une mesure, ou 'q' pour quitter : \")\n",
    "\n",
    "        if commande.lower() == 'q':  # Quitter le programme\n",
    "            if mesures:\n",
    "                nom_fichier = input(\"Entrez le nom du fichier pour enregistrer les mesures : \")\n",
    "                enregistrer_mesures(nom_fichier, mesures)\n",
    "            print(\"Arrêt du programme.\")\n",
    "            break\n",
    "\n",
    "        elif commande.lower() == 'n':  # Collecter une mesure\n",
    "            envoyer_commande('n')  # Envoyer la commande 'n' à l'Arduino\n",
    "            print(\"Attente de la mesure...\")\n",
    "\n",
    "            # Lecture de la première mesure\n",
    "            for _ in range(nb_mesures_max):\n",
    "                if ser.in_waiting > 0:  # Vérifie si des données sont disponibles\n",
    "                    ligne = ser.readline().decode('utf-8').strip()  # Lire une ligne et la décoder\n",
    "                    print(f\"Reçu : {ligne}\")  # Afficher la ligne brute pour vérification\n",
    "                    mesure = extraire_mesure(ligne)  # Extraire la mesure\n",
    "                    if mesure is not None:\n",
    "                        if mesure != 0:  # Vérification des mesures nulles\n",
    "                            mesures.append(mesure)\n",
    "                            print(f\"Mesure validée : {mesure} kg\")\n",
    "                        else:\n",
    "                            print(\"Avertissement : Mesure nulle reçue, vérifiez le capteur.\")\n",
    "                    else:\n",
    "                        print(\"Erreur : Données reçues non valides.\")\n",
    "                time.sleep(1)  # Attente entre deux lectures\n",
    "\n",
    "            # Vérifier si on a atteint le maximum de mesures\n",
    "            if len(mesures) >= nb_mesures_max:\n",
    "                print(f\"Vous avez collecté {nb_mesures_max} mesures.\")\n",
    "                nom_fichier = input(\"Entrez le nom du fichier pour enregistrer les mesures : \")\n",
    "                enregistrer_mesures(nom_fichier, mesures)\n",
    "                mesures = []  # Réinitialiser la liste des mesures\n",
    "\n",
    "except KeyboardInterrupt:\n",
    "    # Gestion de l'arrêt avec Ctrl+C\n",
    "    print(\"\\nArrêt du programme par l'utilisateur.\")\n",
    "    if mesures:\n",
    "        nom_fichier = input(\"Entrez le nom du fichier pour enregistrer les mesures restantes : \")\n",
    "        enregistrer_mesures(nom_fichier, mesures)\n",
    "    ser.close()\n",
    "    print(\"Connexion série fermée.\")\n"
   ]
  },
  {
   "cell_type": "code",
   "execution_count": 4,
   "id": "8e0d04c6-4188-4cc4-b532-da2e5a678fd7",
   "metadata": {},
   "outputs": [
    {
     "name": "stdout",
     "output_type": "stream",
     "text": [
      "Erreur : Impossible de se connecter au port COM3\n"
     ]
    },
    {
     "ename": "SerialException",
     "evalue": "[Errno 2] could not open port COM3: [Errno 2] No such file or directory: 'COM3'",
     "output_type": "error",
     "traceback": [
      "\u001b[0;31m---------------------------------------------------------------------------\u001b[0m",
      "\u001b[0;31mFileNotFoundError\u001b[0m                         Traceback (most recent call last)",
      "\u001b[0;32m~/.local/lib/python3.10/site-packages/serial/serialposix.py\u001b[0m in \u001b[0;36mopen\u001b[0;34m(self)\u001b[0m\n\u001b[1;32m    321\u001b[0m         \u001b[0;32mtry\u001b[0m\u001b[0;34m:\u001b[0m\u001b[0;34m\u001b[0m\u001b[0;34m\u001b[0m\u001b[0m\n\u001b[0;32m--> 322\u001b[0;31m             \u001b[0mself\u001b[0m\u001b[0;34m.\u001b[0m\u001b[0mfd\u001b[0m \u001b[0;34m=\u001b[0m \u001b[0mos\u001b[0m\u001b[0;34m.\u001b[0m\u001b[0mopen\u001b[0m\u001b[0;34m(\u001b[0m\u001b[0mself\u001b[0m\u001b[0;34m.\u001b[0m\u001b[0mportstr\u001b[0m\u001b[0;34m,\u001b[0m \u001b[0mos\u001b[0m\u001b[0;34m.\u001b[0m\u001b[0mO_RDWR\u001b[0m \u001b[0;34m|\u001b[0m \u001b[0mos\u001b[0m\u001b[0;34m.\u001b[0m\u001b[0mO_NOCTTY\u001b[0m \u001b[0;34m|\u001b[0m \u001b[0mos\u001b[0m\u001b[0;34m.\u001b[0m\u001b[0mO_NONBLOCK\u001b[0m\u001b[0;34m)\u001b[0m\u001b[0;34m\u001b[0m\u001b[0;34m\u001b[0m\u001b[0m\n\u001b[0m\u001b[1;32m    323\u001b[0m         \u001b[0;32mexcept\u001b[0m \u001b[0mOSError\u001b[0m \u001b[0;32mas\u001b[0m \u001b[0mmsg\u001b[0m\u001b[0;34m:\u001b[0m\u001b[0;34m\u001b[0m\u001b[0;34m\u001b[0m\u001b[0m\n",
      "\u001b[0;31mFileNotFoundError\u001b[0m: [Errno 2] No such file or directory: 'COM3'",
      "\nDuring handling of the above exception, another exception occurred:\n",
      "\u001b[0;31mSerialException\u001b[0m                           Traceback (most recent call last)",
      "\u001b[0;32m/tmp/ipykernel_35904/4194494846.py\u001b[0m in \u001b[0;36m<module>\u001b[0;34m\u001b[0m\n\u001b[1;32m     16\u001b[0m \u001b[0;32mexcept\u001b[0m \u001b[0mserial\u001b[0m\u001b[0;34m.\u001b[0m\u001b[0mSerialException\u001b[0m \u001b[0;32mas\u001b[0m \u001b[0me\u001b[0m\u001b[0;34m:\u001b[0m\u001b[0;34m\u001b[0m\u001b[0;34m\u001b[0m\u001b[0m\n\u001b[1;32m     17\u001b[0m     \u001b[0mprint\u001b[0m\u001b[0;34m(\u001b[0m\u001b[0;34mf\"Erreur : Impossible de se connecter au port {arduino_port}\"\u001b[0m\u001b[0;34m)\u001b[0m\u001b[0;34m\u001b[0m\u001b[0;34m\u001b[0m\u001b[0m\n\u001b[0;32m---> 18\u001b[0;31m     \u001b[0;32mraise\u001b[0m \u001b[0me\u001b[0m\u001b[0;34m\u001b[0m\u001b[0;34m\u001b[0m\u001b[0m\n\u001b[0m\u001b[1;32m     19\u001b[0m \u001b[0;34m\u001b[0m\u001b[0m\n\u001b[1;32m     20\u001b[0m \u001b[0;31m# Liste pour stocker les mesures\u001b[0m\u001b[0;34m\u001b[0m\u001b[0;34m\u001b[0m\u001b[0m\n",
      "\u001b[0;32m/tmp/ipykernel_35904/4194494846.py\u001b[0m in \u001b[0;36m<module>\u001b[0;34m\u001b[0m\n\u001b[1;32m     12\u001b[0m \u001b[0;31m# Initialisation de la connexion série\u001b[0m\u001b[0;34m\u001b[0m\u001b[0;34m\u001b[0m\u001b[0m\n\u001b[1;32m     13\u001b[0m \u001b[0;32mtry\u001b[0m\u001b[0;34m:\u001b[0m\u001b[0;34m\u001b[0m\u001b[0;34m\u001b[0m\u001b[0m\n\u001b[0;32m---> 14\u001b[0;31m     \u001b[0mser\u001b[0m \u001b[0;34m=\u001b[0m \u001b[0mserial\u001b[0m\u001b[0;34m.\u001b[0m\u001b[0mSerial\u001b[0m\u001b[0;34m(\u001b[0m\u001b[0marduino_port\u001b[0m\u001b[0;34m,\u001b[0m \u001b[0mbaud_rate\u001b[0m\u001b[0;34m,\u001b[0m \u001b[0mtimeout\u001b[0m\u001b[0;34m=\u001b[0m\u001b[0;36m2\u001b[0m\u001b[0;34m)\u001b[0m\u001b[0;34m\u001b[0m\u001b[0;34m\u001b[0m\u001b[0m\n\u001b[0m\u001b[1;32m     15\u001b[0m     \u001b[0mprint\u001b[0m\u001b[0;34m(\u001b[0m\u001b[0;34mf\"Connecté à {arduino_port}\"\u001b[0m\u001b[0;34m)\u001b[0m\u001b[0;34m\u001b[0m\u001b[0;34m\u001b[0m\u001b[0m\n\u001b[1;32m     16\u001b[0m \u001b[0;32mexcept\u001b[0m \u001b[0mserial\u001b[0m\u001b[0;34m.\u001b[0m\u001b[0mSerialException\u001b[0m \u001b[0;32mas\u001b[0m \u001b[0me\u001b[0m\u001b[0;34m:\u001b[0m\u001b[0;34m\u001b[0m\u001b[0;34m\u001b[0m\u001b[0m\n",
      "\u001b[0;32m~/.local/lib/python3.10/site-packages/serial/serialutil.py\u001b[0m in \u001b[0;36m__init__\u001b[0;34m(self, port, baudrate, bytesize, parity, stopbits, timeout, xonxoff, rtscts, write_timeout, dsrdtr, inter_byte_timeout, exclusive, **kwargs)\u001b[0m\n\u001b[1;32m    242\u001b[0m \u001b[0;34m\u001b[0m\u001b[0m\n\u001b[1;32m    243\u001b[0m         \u001b[0;32mif\u001b[0m \u001b[0mport\u001b[0m \u001b[0;32mis\u001b[0m \u001b[0;32mnot\u001b[0m \u001b[0;32mNone\u001b[0m\u001b[0;34m:\u001b[0m\u001b[0;34m\u001b[0m\u001b[0;34m\u001b[0m\u001b[0m\n\u001b[0;32m--> 244\u001b[0;31m             \u001b[0mself\u001b[0m\u001b[0;34m.\u001b[0m\u001b[0mopen\u001b[0m\u001b[0;34m(\u001b[0m\u001b[0;34m)\u001b[0m\u001b[0;34m\u001b[0m\u001b[0;34m\u001b[0m\u001b[0m\n\u001b[0m\u001b[1;32m    245\u001b[0m \u001b[0;34m\u001b[0m\u001b[0m\n\u001b[1;32m    246\u001b[0m     \u001b[0;31m#  -  -  -  -  -  -  -  -  -  -  -  -  -  -  -  -  -  -  -  -  -  -  -  -\u001b[0m\u001b[0;34m\u001b[0m\u001b[0;34m\u001b[0m\u001b[0m\n",
      "\u001b[0;32m~/.local/lib/python3.10/site-packages/serial/serialposix.py\u001b[0m in \u001b[0;36mopen\u001b[0;34m(self)\u001b[0m\n\u001b[1;32m    323\u001b[0m         \u001b[0;32mexcept\u001b[0m \u001b[0mOSError\u001b[0m \u001b[0;32mas\u001b[0m \u001b[0mmsg\u001b[0m\u001b[0;34m:\u001b[0m\u001b[0;34m\u001b[0m\u001b[0;34m\u001b[0m\u001b[0m\n\u001b[1;32m    324\u001b[0m             \u001b[0mself\u001b[0m\u001b[0;34m.\u001b[0m\u001b[0mfd\u001b[0m \u001b[0;34m=\u001b[0m \u001b[0;32mNone\u001b[0m\u001b[0;34m\u001b[0m\u001b[0;34m\u001b[0m\u001b[0m\n\u001b[0;32m--> 325\u001b[0;31m             \u001b[0;32mraise\u001b[0m \u001b[0mSerialException\u001b[0m\u001b[0;34m(\u001b[0m\u001b[0mmsg\u001b[0m\u001b[0;34m.\u001b[0m\u001b[0merrno\u001b[0m\u001b[0;34m,\u001b[0m \u001b[0;34m\"could not open port {}: {}\"\u001b[0m\u001b[0;34m.\u001b[0m\u001b[0mformat\u001b[0m\u001b[0;34m(\u001b[0m\u001b[0mself\u001b[0m\u001b[0;34m.\u001b[0m\u001b[0m_port\u001b[0m\u001b[0;34m,\u001b[0m \u001b[0mmsg\u001b[0m\u001b[0;34m)\u001b[0m\u001b[0;34m)\u001b[0m\u001b[0;34m\u001b[0m\u001b[0;34m\u001b[0m\u001b[0m\n\u001b[0m\u001b[1;32m    326\u001b[0m         \u001b[0;31m#~ fcntl.fcntl(self.fd, fcntl.F_SETFL, 0)  # set blocking\u001b[0m\u001b[0;34m\u001b[0m\u001b[0;34m\u001b[0m\u001b[0m\n\u001b[1;32m    327\u001b[0m \u001b[0;34m\u001b[0m\u001b[0m\n",
      "\u001b[0;31mSerialException\u001b[0m: [Errno 2] could not open port COM3: [Errno 2] No such file or directory: 'COM3'"
     ]
    }
   ],
   "source": [
    "import serial\n",
    "import re\n",
    "import time\n",
    "from datetime import datetime\n",
    "\n",
    "# Configuration du port série pour Arduino\n",
    "arduino_port = \"COM3\"  # Remplacez par votre port série (exemple : COM3 ou /dev/ttyUSB0)\n",
    "baud_rate = 9600       # Assurez-vous que le débit en bauds correspond à celui de l'Arduino\n",
    "nb_mesures_max = 10     # Nombre maximum de mesures avant d'enregistrer dans un fichier\n",
    "prefix_fichier = \"FSR_\"\n",
    "\n",
    "# Initialisation de la connexion série\n",
    "try:\n",
    "    ser = serial.Serial(arduino_port, baud_rate, timeout=2)\n",
    "    print(f\"Connecté à {arduino_port}\")\n",
    "except serial.SerialException as e:\n",
    "    print(f\"Erreur : Impossible de se connecter au port {arduino_port}\")\n",
    "    raise e\n",
    "\n",
    "# Liste pour stocker les mesures\n",
    "mesures = []\n",
    "\n",
    "# Fonction pour envoyer une commande à l'Arduino\n",
    "def envoyer_commande(commande):\n",
    "    ser.write((commande + '\\n').encode('utf-8'))  # Envoyer la commande au port série\n",
    "    print(f\"Commande envoyée : {commande}\")\n",
    "\n",
    "# Fonction pour extraire la valeur de mesure depuis une ligne Arduino\n",
    "def extraire_mesure(ligne):\n",
    "    match = re.search(r\"=>\\s*([\\d.]+)\\s*kg\", ligne)  # Rechercher la valeur après '=>'\n",
    "    if match:\n",
    "        return float(match.group(1))  # Retourner la valeur en tant que float\n",
    "    return None\n",
    "\n",
    "# Fonction pour enregistrer les mesures dans un fichier texte\n",
    "def enregistrer_mesures(mesures):\n",
    "    nom_fichier = f'{prefix_fichier}{datetime.now():%Y-%m-%d_%H-%M-%S}.txt'\n",
    "    with open(nom_fichier, \"w\") as fichier:\n",
    "        for essaie in mesures:\n",
    "            fichier.write(f\"Essaie numéro {essaie}\\n\")\n",
    "            for i, mesure in enumerate(mesures[essaie], start=1):\n",
    "                fichier.write(f\"Mesure {i} : {mesure} kg\\n\")\n",
    "    print(f\"Les mesures ont été enregistrées dans le fichier : {nom_fichier}\")\n",
    "\n",
    "# Lecture et interaction\n",
    "try:\n",
    "    essaie = 0\n",
    "    mesures = {}\n",
    "    while True:\n",
    "        commande = input(\"Tapez 'n' pour collecter une mesure, ou 'q' pour quitter : \")\n",
    "\n",
    "        if commande.lower() == 'q':  # Quitter le programme\n",
    "            if mesures:\n",
    "                enregistrer_mesures(mesures)\n",
    "            print(\"Arrêt du programme.\")\n",
    "            break\n",
    "\n",
    "        elif commande.lower() == 'n':  # Collecter une mesure\n",
    "            essaie += 1\n",
    "            mesures[essaie] = []\n",
    "\n",
    "            print(f\"Début essaie {essaie}\") \n",
    "            \n",
    "            envoyer_commande('n')  # Envoyer la commande 'n' à l'Arduino\n",
    "            print(\"Attente de la mesure...\")\n",
    "\n",
    "            # Lecture de la première mesure\n",
    "            nb_mesure = 0\n",
    "            while len(mesures[essaie]) < nb_mesures_max:\n",
    "                if ser.in_waiting > 0:  # Vérifie si des données sont disponibles\n",
    "                    ligne = ser.readline().decode('utf-8').strip()  # Lire une ligne et la décoder\n",
    "                    print(f\"Reçu : {ligne}\")  # Afficher la ligne brute pour vérification\n",
    "                    mesure = extraire_mesure(ligne)  # Extraire la mesure\n",
    "                    if mesure is not None:\n",
    "                        if mesure != 0:  # Vérification des mesures nulles\n",
    "                            mesures[essaie].append(mesure)\n",
    "                            print(f\"Mesure validée : {mesure} kg\")\n",
    "                        else:\n",
    "                            print(\"Avertissement : Mesure nulle reçue, vérifiez le capteur.\")\n",
    "                    else:\n",
    "                        print(\"Erreur : Données reçues non valides.\")\n",
    "                time.sleep(1)  # Attente entre deux lectures\n",
    "\n",
    "except KeyboardInterrupt:\n",
    "    # Gestion de l'arrêt avec Ctrl+C\n",
    "    print(\"\\nArrêt du programme par l'utilisateur.\")\n",
    "    if mesures:\n",
    "        enregistrer_mesures(mesures)\n",
    "    ser.close()\n",
    "    print(\"Connexion série fermée.\")\n"
   ]
  },
  {
   "cell_type": "code",
   "execution_count": null,
   "id": "e7efdc82-e446-4b70-95e7-204cd7d092d3",
   "metadata": {},
   "outputs": [],
   "source": []
  }
 ],
 "metadata": {
  "kernelspec": {
   "display_name": "Python 3 (ipykernel)",
   "language": "python",
   "name": "python3"
  },
  "language_info": {
   "codemirror_mode": {
    "name": "ipython",
    "version": 3
   },
   "file_extension": ".py",
   "mimetype": "text/x-python",
   "name": "python",
   "nbconvert_exporter": "python",
   "pygments_lexer": "ipython3",
   "version": "3.10.12"
  }
 },
 "nbformat": 4,
 "nbformat_minor": 5
}
